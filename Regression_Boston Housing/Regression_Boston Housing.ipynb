{
 "cells": [
  {
   "cell_type": "markdown",
   "id": "24237b73",
   "metadata": {},
   "source": [
    "# Regression Boston Housing "
   ]
  },
  {
   "cell_type": "markdown",
   "id": "ab585212",
   "metadata": {},
   "source": [
    "## 01| Dataset Information"
   ]
  },
  {
   "cell_type": "markdown",
   "id": "005eb966",
   "metadata": {},
   "source": [
    "Data berasal dari Boston Standard Metropolitan Statistical Area (SMSA) pada tahun 1970. Atributnya didefinisikan sebagai berikut:\n",
    "* crim: tingkat kejahatan per kapita menurut kota\n",
    "* zn: proporsi tanah kavling untuk perumahan yang lebih dari 25.000 sq.ft.\n",
    "* indus: proporsi hektar untuk bisnis non-ritel per kota\n",
    "* chas: 1 = jika saluran membatasi sungai Charles; 0 = sebaliknya)\n",
    "* nox: konsentrasi oksida nitrat (bagian per 10 juta)\n",
    "* rm: rata-rata jumlah kamar per hunian\n",
    "* age: proporsi unit yang ditempati pemilik dan dibangun sebelum 1940\n",
    "* dis: jarak tertimbang ke lima pusat pekerjaan di Boston\n",
    "* rad: jarak ke jalan raya utama\n",
    "* tax: tarif pajak properti nilai penuh per 10.000 dolar\n",
    "* ptratio: rasio murid-guru menurut kota 12. \n",
    "* b: 1000(Bk−0.63)2 di mana Bk adalah proporsi orang kulit hitam menurut kota 13. \n",
    "* lstat: persentase status penduduk kelas bawah\n",
    "* medv: Nilai rata-rata rumah yang ditempati pemilik di 1000s dolar"
   ]
  },
  {
   "cell_type": "markdown",
   "id": "4e0265f1",
   "metadata": {},
   "source": [
    "## 03| Importing Library"
   ]
  },
  {
   "cell_type": "code",
   "execution_count": 4,
   "id": "adfbfa77",
   "metadata": {},
   "outputs": [],
   "source": [
    "# Library stat and visual\n",
    "import numpy as np\n",
    "import pandas as pd\n",
    "import matplotlib.pyplot as plt\n",
    "import seaborn as sns\n",
    "sns.set_style('whitegrid')\n",
    "\n",
    "import warnings\n",
    "warnings.filterwarnings('ignore')"
   ]
  },
  {
   "cell_type": "markdown",
   "id": "ca8590a0",
   "metadata": {},
   "source": [
    "## 04| Loading Dataset"
   ]
  },
  {
   "cell_type": "code",
   "execution_count": 5,
   "id": "7142c635",
   "metadata": {},
   "outputs": [
    {
     "data": {
      "text/html": [
       "<div>\n",
       "<style scoped>\n",
       "    .dataframe tbody tr th:only-of-type {\n",
       "        vertical-align: middle;\n",
       "    }\n",
       "\n",
       "    .dataframe tbody tr th {\n",
       "        vertical-align: top;\n",
       "    }\n",
       "\n",
       "    .dataframe thead th {\n",
       "        text-align: right;\n",
       "    }\n",
       "</style>\n",
       "<table border=\"1\" class=\"dataframe\">\n",
       "  <thead>\n",
       "    <tr style=\"text-align: right;\">\n",
       "      <th></th>\n",
       "      <th>crim</th>\n",
       "      <th>zn</th>\n",
       "      <th>indus</th>\n",
       "      <th>chas</th>\n",
       "      <th>nox</th>\n",
       "      <th>rm</th>\n",
       "      <th>age</th>\n",
       "      <th>dis</th>\n",
       "      <th>rad</th>\n",
       "      <th>tax</th>\n",
       "      <th>ptratio</th>\n",
       "      <th>b</th>\n",
       "      <th>lstat</th>\n",
       "      <th>medv</th>\n",
       "    </tr>\n",
       "  </thead>\n",
       "  <tbody>\n",
       "    <tr>\n",
       "      <th>0</th>\n",
       "      <td>0.00632</td>\n",
       "      <td>18.0</td>\n",
       "      <td>2.31</td>\n",
       "      <td>0</td>\n",
       "      <td>0.538</td>\n",
       "      <td>6.575</td>\n",
       "      <td>65.2</td>\n",
       "      <td>4.0900</td>\n",
       "      <td>1</td>\n",
       "      <td>296</td>\n",
       "      <td>15.3</td>\n",
       "      <td>396.90</td>\n",
       "      <td>4.98</td>\n",
       "      <td>24.0</td>\n",
       "    </tr>\n",
       "    <tr>\n",
       "      <th>1</th>\n",
       "      <td>0.02731</td>\n",
       "      <td>0.0</td>\n",
       "      <td>7.07</td>\n",
       "      <td>0</td>\n",
       "      <td>0.469</td>\n",
       "      <td>6.421</td>\n",
       "      <td>78.9</td>\n",
       "      <td>4.9671</td>\n",
       "      <td>2</td>\n",
       "      <td>242</td>\n",
       "      <td>17.8</td>\n",
       "      <td>396.90</td>\n",
       "      <td>9.14</td>\n",
       "      <td>21.6</td>\n",
       "    </tr>\n",
       "    <tr>\n",
       "      <th>2</th>\n",
       "      <td>0.02729</td>\n",
       "      <td>0.0</td>\n",
       "      <td>7.07</td>\n",
       "      <td>0</td>\n",
       "      <td>0.469</td>\n",
       "      <td>7.185</td>\n",
       "      <td>61.1</td>\n",
       "      <td>4.9671</td>\n",
       "      <td>2</td>\n",
       "      <td>242</td>\n",
       "      <td>17.8</td>\n",
       "      <td>392.83</td>\n",
       "      <td>4.03</td>\n",
       "      <td>34.7</td>\n",
       "    </tr>\n",
       "    <tr>\n",
       "      <th>3</th>\n",
       "      <td>0.03237</td>\n",
       "      <td>0.0</td>\n",
       "      <td>2.18</td>\n",
       "      <td>0</td>\n",
       "      <td>0.458</td>\n",
       "      <td>6.998</td>\n",
       "      <td>45.8</td>\n",
       "      <td>6.0622</td>\n",
       "      <td>3</td>\n",
       "      <td>222</td>\n",
       "      <td>18.7</td>\n",
       "      <td>394.63</td>\n",
       "      <td>2.94</td>\n",
       "      <td>33.4</td>\n",
       "    </tr>\n",
       "    <tr>\n",
       "      <th>4</th>\n",
       "      <td>0.06905</td>\n",
       "      <td>0.0</td>\n",
       "      <td>2.18</td>\n",
       "      <td>0</td>\n",
       "      <td>0.458</td>\n",
       "      <td>7.147</td>\n",
       "      <td>54.2</td>\n",
       "      <td>6.0622</td>\n",
       "      <td>3</td>\n",
       "      <td>222</td>\n",
       "      <td>18.7</td>\n",
       "      <td>396.90</td>\n",
       "      <td>5.33</td>\n",
       "      <td>36.2</td>\n",
       "    </tr>\n",
       "  </tbody>\n",
       "</table>\n",
       "</div>"
      ],
      "text/plain": [
       "      crim    zn  indus  chas    nox     rm   age     dis  rad  tax  ptratio  \\\n",
       "0  0.00632  18.0   2.31     0  0.538  6.575  65.2  4.0900    1  296     15.3   \n",
       "1  0.02731   0.0   7.07     0  0.469  6.421  78.9  4.9671    2  242     17.8   \n",
       "2  0.02729   0.0   7.07     0  0.469  7.185  61.1  4.9671    2  242     17.8   \n",
       "3  0.03237   0.0   2.18     0  0.458  6.998  45.8  6.0622    3  222     18.7   \n",
       "4  0.06905   0.0   2.18     0  0.458  7.147  54.2  6.0622    3  222     18.7   \n",
       "\n",
       "        b  lstat  medv  \n",
       "0  396.90   4.98  24.0  \n",
       "1  396.90   9.14  21.6  \n",
       "2  392.83   4.03  34.7  \n",
       "3  394.63   2.94  33.4  \n",
       "4  396.90   5.33  36.2  "
      ]
     },
     "execution_count": 5,
     "metadata": {},
     "output_type": "execute_result"
    }
   ],
   "source": [
    "df = pd.read_csv('boston_housing.csv')\n",
    "df.head()"
   ]
  },
  {
   "cell_type": "code",
   "execution_count": 6,
   "id": "deeb1d22",
   "metadata": {},
   "outputs": [
    {
     "name": "stdout",
     "output_type": "stream",
     "text": [
      "<class 'pandas.core.frame.DataFrame'>\n",
      "RangeIndex: 506 entries, 0 to 505\n",
      "Data columns (total 14 columns):\n",
      " #   Column   Non-Null Count  Dtype  \n",
      "---  ------   --------------  -----  \n",
      " 0   crim     506 non-null    float64\n",
      " 1   zn       506 non-null    float64\n",
      " 2   indus    506 non-null    float64\n",
      " 3   chas     506 non-null    int64  \n",
      " 4   nox      506 non-null    float64\n",
      " 5   rm       506 non-null    float64\n",
      " 6   age      506 non-null    float64\n",
      " 7   dis      506 non-null    float64\n",
      " 8   rad      506 non-null    int64  \n",
      " 9   tax      506 non-null    int64  \n",
      " 10  ptratio  506 non-null    float64\n",
      " 11  b        506 non-null    float64\n",
      " 12  lstat    506 non-null    float64\n",
      " 13  medv     506 non-null    float64\n",
      "dtypes: float64(11), int64(3)\n",
      "memory usage: 55.5 KB\n"
     ]
    }
   ],
   "source": [
    "df.info()"
   ]
  },
  {
   "cell_type": "code",
   "execution_count": 7,
   "id": "9edb8bfa",
   "metadata": {},
   "outputs": [
    {
     "data": {
      "text/plain": [
       "crim       0\n",
       "zn         0\n",
       "indus      0\n",
       "chas       0\n",
       "nox        0\n",
       "rm         0\n",
       "age        0\n",
       "dis        0\n",
       "rad        0\n",
       "tax        0\n",
       "ptratio    0\n",
       "b          0\n",
       "lstat      0\n",
       "medv       0\n",
       "dtype: int64"
      ]
     },
     "execution_count": 7,
     "metadata": {},
     "output_type": "execute_result"
    }
   ],
   "source": [
    "df.isna().sum()"
   ]
  },
  {
   "cell_type": "code",
   "execution_count": 8,
   "id": "37425341",
   "metadata": {},
   "outputs": [
    {
     "data": {
      "text/plain": [
       "False"
      ]
     },
     "execution_count": 8,
     "metadata": {},
     "output_type": "execute_result"
    }
   ],
   "source": [
    "df.duplicated().any()"
   ]
  },
  {
   "cell_type": "markdown",
   "id": "32d163de",
   "metadata": {},
   "source": [
    "Dataset bersih dari missing value dan data duplikat. Sehingga dataset tidak perlu cleansing lagi dan bisa langsung digunakan jika outlier tidak perlu dihandling."
   ]
  },
  {
   "cell_type": "code",
   "execution_count": 9,
   "id": "b5a65486",
   "metadata": {},
   "outputs": [
    {
     "data": {
      "text/html": [
       "<div>\n",
       "<style scoped>\n",
       "    .dataframe tbody tr th:only-of-type {\n",
       "        vertical-align: middle;\n",
       "    }\n",
       "\n",
       "    .dataframe tbody tr th {\n",
       "        vertical-align: top;\n",
       "    }\n",
       "\n",
       "    .dataframe thead th {\n",
       "        text-align: right;\n",
       "    }\n",
       "</style>\n",
       "<table border=\"1\" class=\"dataframe\">\n",
       "  <thead>\n",
       "    <tr style=\"text-align: right;\">\n",
       "      <th></th>\n",
       "      <th>crim</th>\n",
       "      <th>zn</th>\n",
       "      <th>indus</th>\n",
       "      <th>chas</th>\n",
       "      <th>nox</th>\n",
       "      <th>rm</th>\n",
       "      <th>age</th>\n",
       "      <th>dis</th>\n",
       "      <th>rad</th>\n",
       "      <th>tax</th>\n",
       "      <th>ptratio</th>\n",
       "      <th>b</th>\n",
       "      <th>lstat</th>\n",
       "      <th>medv</th>\n",
       "    </tr>\n",
       "  </thead>\n",
       "  <tbody>\n",
       "    <tr>\n",
       "      <th>count</th>\n",
       "      <td>506.000000</td>\n",
       "      <td>506.000000</td>\n",
       "      <td>506.000000</td>\n",
       "      <td>506.000000</td>\n",
       "      <td>506.000000</td>\n",
       "      <td>506.000000</td>\n",
       "      <td>506.000000</td>\n",
       "      <td>506.000000</td>\n",
       "      <td>506.000000</td>\n",
       "      <td>506.000000</td>\n",
       "      <td>506.000000</td>\n",
       "      <td>506.000000</td>\n",
       "      <td>506.000000</td>\n",
       "      <td>506.000000</td>\n",
       "    </tr>\n",
       "    <tr>\n",
       "      <th>mean</th>\n",
       "      <td>3.613524</td>\n",
       "      <td>11.363636</td>\n",
       "      <td>11.136779</td>\n",
       "      <td>0.069170</td>\n",
       "      <td>0.554695</td>\n",
       "      <td>6.284634</td>\n",
       "      <td>68.574901</td>\n",
       "      <td>3.795043</td>\n",
       "      <td>9.549407</td>\n",
       "      <td>408.237154</td>\n",
       "      <td>18.455534</td>\n",
       "      <td>356.674032</td>\n",
       "      <td>12.653063</td>\n",
       "      <td>22.532806</td>\n",
       "    </tr>\n",
       "    <tr>\n",
       "      <th>std</th>\n",
       "      <td>8.601545</td>\n",
       "      <td>23.322453</td>\n",
       "      <td>6.860353</td>\n",
       "      <td>0.253994</td>\n",
       "      <td>0.115878</td>\n",
       "      <td>0.702617</td>\n",
       "      <td>28.148861</td>\n",
       "      <td>2.105710</td>\n",
       "      <td>8.707259</td>\n",
       "      <td>168.537116</td>\n",
       "      <td>2.164946</td>\n",
       "      <td>91.294864</td>\n",
       "      <td>7.141062</td>\n",
       "      <td>9.197104</td>\n",
       "    </tr>\n",
       "    <tr>\n",
       "      <th>min</th>\n",
       "      <td>0.006320</td>\n",
       "      <td>0.000000</td>\n",
       "      <td>0.460000</td>\n",
       "      <td>0.000000</td>\n",
       "      <td>0.385000</td>\n",
       "      <td>3.561000</td>\n",
       "      <td>2.900000</td>\n",
       "      <td>1.129600</td>\n",
       "      <td>1.000000</td>\n",
       "      <td>187.000000</td>\n",
       "      <td>12.600000</td>\n",
       "      <td>0.320000</td>\n",
       "      <td>1.730000</td>\n",
       "      <td>5.000000</td>\n",
       "    </tr>\n",
       "    <tr>\n",
       "      <th>25%</th>\n",
       "      <td>0.082045</td>\n",
       "      <td>0.000000</td>\n",
       "      <td>5.190000</td>\n",
       "      <td>0.000000</td>\n",
       "      <td>0.449000</td>\n",
       "      <td>5.885500</td>\n",
       "      <td>45.025000</td>\n",
       "      <td>2.100175</td>\n",
       "      <td>4.000000</td>\n",
       "      <td>279.000000</td>\n",
       "      <td>17.400000</td>\n",
       "      <td>375.377500</td>\n",
       "      <td>6.950000</td>\n",
       "      <td>17.025000</td>\n",
       "    </tr>\n",
       "    <tr>\n",
       "      <th>50%</th>\n",
       "      <td>0.256510</td>\n",
       "      <td>0.000000</td>\n",
       "      <td>9.690000</td>\n",
       "      <td>0.000000</td>\n",
       "      <td>0.538000</td>\n",
       "      <td>6.208500</td>\n",
       "      <td>77.500000</td>\n",
       "      <td>3.207450</td>\n",
       "      <td>5.000000</td>\n",
       "      <td>330.000000</td>\n",
       "      <td>19.050000</td>\n",
       "      <td>391.440000</td>\n",
       "      <td>11.360000</td>\n",
       "      <td>21.200000</td>\n",
       "    </tr>\n",
       "    <tr>\n",
       "      <th>75%</th>\n",
       "      <td>3.677083</td>\n",
       "      <td>12.500000</td>\n",
       "      <td>18.100000</td>\n",
       "      <td>0.000000</td>\n",
       "      <td>0.624000</td>\n",
       "      <td>6.623500</td>\n",
       "      <td>94.075000</td>\n",
       "      <td>5.188425</td>\n",
       "      <td>24.000000</td>\n",
       "      <td>666.000000</td>\n",
       "      <td>20.200000</td>\n",
       "      <td>396.225000</td>\n",
       "      <td>16.955000</td>\n",
       "      <td>25.000000</td>\n",
       "    </tr>\n",
       "    <tr>\n",
       "      <th>max</th>\n",
       "      <td>88.976200</td>\n",
       "      <td>100.000000</td>\n",
       "      <td>27.740000</td>\n",
       "      <td>1.000000</td>\n",
       "      <td>0.871000</td>\n",
       "      <td>8.780000</td>\n",
       "      <td>100.000000</td>\n",
       "      <td>12.126500</td>\n",
       "      <td>24.000000</td>\n",
       "      <td>711.000000</td>\n",
       "      <td>22.000000</td>\n",
       "      <td>396.900000</td>\n",
       "      <td>37.970000</td>\n",
       "      <td>50.000000</td>\n",
       "    </tr>\n",
       "  </tbody>\n",
       "</table>\n",
       "</div>"
      ],
      "text/plain": [
       "             crim          zn       indus        chas         nox          rm  \\\n",
       "count  506.000000  506.000000  506.000000  506.000000  506.000000  506.000000   \n",
       "mean     3.613524   11.363636   11.136779    0.069170    0.554695    6.284634   \n",
       "std      8.601545   23.322453    6.860353    0.253994    0.115878    0.702617   \n",
       "min      0.006320    0.000000    0.460000    0.000000    0.385000    3.561000   \n",
       "25%      0.082045    0.000000    5.190000    0.000000    0.449000    5.885500   \n",
       "50%      0.256510    0.000000    9.690000    0.000000    0.538000    6.208500   \n",
       "75%      3.677083   12.500000   18.100000    0.000000    0.624000    6.623500   \n",
       "max     88.976200  100.000000   27.740000    1.000000    0.871000    8.780000   \n",
       "\n",
       "              age         dis         rad         tax     ptratio           b  \\\n",
       "count  506.000000  506.000000  506.000000  506.000000  506.000000  506.000000   \n",
       "mean    68.574901    3.795043    9.549407  408.237154   18.455534  356.674032   \n",
       "std     28.148861    2.105710    8.707259  168.537116    2.164946   91.294864   \n",
       "min      2.900000    1.129600    1.000000  187.000000   12.600000    0.320000   \n",
       "25%     45.025000    2.100175    4.000000  279.000000   17.400000  375.377500   \n",
       "50%     77.500000    3.207450    5.000000  330.000000   19.050000  391.440000   \n",
       "75%     94.075000    5.188425   24.000000  666.000000   20.200000  396.225000   \n",
       "max    100.000000   12.126500   24.000000  711.000000   22.000000  396.900000   \n",
       "\n",
       "            lstat        medv  \n",
       "count  506.000000  506.000000  \n",
       "mean    12.653063   22.532806  \n",
       "std      7.141062    9.197104  \n",
       "min      1.730000    5.000000  \n",
       "25%      6.950000   17.025000  \n",
       "50%     11.360000   21.200000  \n",
       "75%     16.955000   25.000000  \n",
       "max     37.970000   50.000000  "
      ]
     },
     "execution_count": 9,
     "metadata": {},
     "output_type": "execute_result"
    }
   ],
   "source": [
    "df.describe()"
   ]
  },
  {
   "cell_type": "markdown",
   "id": "04bc3cf1",
   "metadata": {},
   "source": [
    "Kita ambil satu sampel kolom yaitu kolom crim. Dari kolom crim bisa kita lihat bahwa rata-rata > quartile 2 (median). Data kemungkinan akan skew kekanan. Jika dilihat juga nilai maxnya adalah 88.9 sangat jauh dari nilai tengah dan ini merupakan sebuah outlier."
   ]
  },
  {
   "cell_type": "markdown",
   "id": "b93f66fe",
   "metadata": {},
   "source": [
    "## 05| Splitting Data"
   ]
  },
  {
   "cell_type": "markdown",
   "id": "4faf9dc5",
   "metadata": {},
   "source": [
    "Dalam workflow ini, saya akan menggunakan cara 'think simple'. Artinya saya akan menggunakan machine learning terlebih dahulu dan mendapatkan score agar bisa menjadi benchmark dari score model yang dibuat setelah dan sebelum EDA."
   ]
  },
  {
   "cell_type": "code",
   "execution_count": 10,
   "id": "2d116fe2",
   "metadata": {},
   "outputs": [],
   "source": [
    "from sklearn.model_selection import train_test_split"
   ]
  },
  {
   "cell_type": "code",
   "execution_count": 11,
   "id": "1e710cae",
   "metadata": {
    "scrolled": true
   },
   "outputs": [
    {
     "data": {
      "text/plain": [
       "((404, 13), (102, 13), (404,), (102,))"
      ]
     },
     "execution_count": 11,
     "metadata": {},
     "output_type": "execute_result"
    }
   ],
   "source": [
    "X = df.drop(columns='medv')\n",
    "y = df.medv\n",
    "\n",
    "X_train, X_test, y_train, y_test = train_test_split(X, y, test_size=0.2, random_state=42)\n",
    "X_train.shape, X_test.shape, y_train.shape, y_test.shape"
   ]
  },
  {
   "cell_type": "markdown",
   "id": "87f04806",
   "metadata": {},
   "source": [
    "## 06| Scalling Data"
   ]
  },
  {
   "cell_type": "code",
   "execution_count": 12,
   "id": "fcf33082",
   "metadata": {
    "scrolled": true
   },
   "outputs": [
    {
     "data": {
      "text/plain": [
       "(Index(['crim', 'zn', 'indus', 'nox', 'rm', 'age', 'dis', 'rad', 'tax',\n",
       "        'ptratio', 'b', 'lstat'],\n",
       "       dtype='object'),\n",
       " Index(['crim', 'zn', 'indus', 'nox', 'rm', 'age', 'dis', 'rad', 'tax',\n",
       "        'ptratio', 'b', 'lstat'],\n",
       "       dtype='object'))"
      ]
     },
     "execution_count": 12,
     "metadata": {},
     "output_type": "execute_result"
    }
   ],
   "source": [
    "df_train = X_train.drop(columns='chas')\n",
    "df_test = X_test.drop(columns='chas')\n",
    "df_train.columns, df_test.columns"
   ]
  },
  {
   "cell_type": "code",
   "execution_count": 13,
   "id": "0ba1c4e2",
   "metadata": {},
   "outputs": [],
   "source": [
    "from sklearn.preprocessing import MinMaxScaler\n",
    "scaler = MinMaxScaler()"
   ]
  },
  {
   "cell_type": "code",
   "execution_count": 14,
   "id": "c5817ba8",
   "metadata": {},
   "outputs": [
    {
     "data": {
      "text/html": [
       "<div>\n",
       "<style scoped>\n",
       "    .dataframe tbody tr th:only-of-type {\n",
       "        vertical-align: middle;\n",
       "    }\n",
       "\n",
       "    .dataframe tbody tr th {\n",
       "        vertical-align: top;\n",
       "    }\n",
       "\n",
       "    .dataframe thead th {\n",
       "        text-align: right;\n",
       "    }\n",
       "</style>\n",
       "<table border=\"1\" class=\"dataframe\">\n",
       "  <thead>\n",
       "    <tr style=\"text-align: right;\">\n",
       "      <th></th>\n",
       "      <th>crim</th>\n",
       "      <th>zn</th>\n",
       "      <th>indus</th>\n",
       "      <th>nox</th>\n",
       "      <th>rm</th>\n",
       "      <th>age</th>\n",
       "      <th>dis</th>\n",
       "      <th>rad</th>\n",
       "      <th>tax</th>\n",
       "      <th>ptratio</th>\n",
       "      <th>b</th>\n",
       "      <th>lstat</th>\n",
       "      <th>chas</th>\n",
       "    </tr>\n",
       "  </thead>\n",
       "  <tbody>\n",
       "    <tr>\n",
       "      <th>0</th>\n",
       "      <td>0.168763</td>\n",
       "      <td>0.00</td>\n",
       "      <td>0.642963</td>\n",
       "      <td>0.471193</td>\n",
       "      <td>0.293065</td>\n",
       "      <td>0.972194</td>\n",
       "      <td>0.088307</td>\n",
       "      <td>1.000000</td>\n",
       "      <td>0.914122</td>\n",
       "      <td>0.808511</td>\n",
       "      <td>0.880428</td>\n",
       "      <td>0.639625</td>\n",
       "      <td>0</td>\n",
       "    </tr>\n",
       "    <tr>\n",
       "      <th>1</th>\n",
       "      <td>0.006950</td>\n",
       "      <td>0.00</td>\n",
       "      <td>0.274074</td>\n",
       "      <td>0.314815</td>\n",
       "      <td>0.400854</td>\n",
       "      <td>0.552008</td>\n",
       "      <td>0.306359</td>\n",
       "      <td>0.130435</td>\n",
       "      <td>0.229008</td>\n",
       "      <td>0.893617</td>\n",
       "      <td>0.996772</td>\n",
       "      <td>0.185982</td>\n",
       "      <td>0</td>\n",
       "    </tr>\n",
       "    <tr>\n",
       "      <th>2</th>\n",
       "      <td>0.000288</td>\n",
       "      <td>0.35</td>\n",
       "      <td>0.197037</td>\n",
       "      <td>0.108848</td>\n",
       "      <td>0.440919</td>\n",
       "      <td>0.210093</td>\n",
       "      <td>0.501150</td>\n",
       "      <td>0.000000</td>\n",
       "      <td>0.223282</td>\n",
       "      <td>0.457447</td>\n",
       "      <td>0.912628</td>\n",
       "      <td>0.168322</td>\n",
       "      <td>0</td>\n",
       "    </tr>\n",
       "    <tr>\n",
       "      <th>3</th>\n",
       "      <td>0.079146</td>\n",
       "      <td>0.00</td>\n",
       "      <td>0.642963</td>\n",
       "      <td>0.471193</td>\n",
       "      <td>0.455562</td>\n",
       "      <td>0.846550</td>\n",
       "      <td>0.081132</td>\n",
       "      <td>1.000000</td>\n",
       "      <td>0.914122</td>\n",
       "      <td>0.808511</td>\n",
       "      <td>0.005547</td>\n",
       "      <td>0.594923</td>\n",
       "      <td>0</td>\n",
       "    </tr>\n",
       "    <tr>\n",
       "      <th>4</th>\n",
       "      <td>0.008056</td>\n",
       "      <td>0.00</td>\n",
       "      <td>0.274074</td>\n",
       "      <td>0.314815</td>\n",
       "      <td>0.379093</td>\n",
       "      <td>0.685891</td>\n",
       "      <td>0.242514</td>\n",
       "      <td>0.130435</td>\n",
       "      <td>0.229008</td>\n",
       "      <td>0.893617</td>\n",
       "      <td>0.984997</td>\n",
       "      <td>0.263521</td>\n",
       "      <td>0</td>\n",
       "    </tr>\n",
       "  </tbody>\n",
       "</table>\n",
       "</div>"
      ],
      "text/plain": [
       "       crim    zn     indus       nox        rm       age       dis       rad  \\\n",
       "0  0.168763  0.00  0.642963  0.471193  0.293065  0.972194  0.088307  1.000000   \n",
       "1  0.006950  0.00  0.274074  0.314815  0.400854  0.552008  0.306359  0.130435   \n",
       "2  0.000288  0.35  0.197037  0.108848  0.440919  0.210093  0.501150  0.000000   \n",
       "3  0.079146  0.00  0.642963  0.471193  0.455562  0.846550  0.081132  1.000000   \n",
       "4  0.008056  0.00  0.274074  0.314815  0.379093  0.685891  0.242514  0.130435   \n",
       "\n",
       "        tax   ptratio         b     lstat  chas  \n",
       "0  0.914122  0.808511  0.880428  0.639625     0  \n",
       "1  0.229008  0.893617  0.996772  0.185982     0  \n",
       "2  0.223282  0.457447  0.912628  0.168322     0  \n",
       "3  0.914122  0.808511  0.005547  0.594923     0  \n",
       "4  0.229008  0.893617  0.984997  0.263521     0  "
      ]
     },
     "execution_count": 14,
     "metadata": {},
     "output_type": "execute_result"
    }
   ],
   "source": [
    "# dataframe fit_transform train_scaled \n",
    "X_train_scaled = pd.DataFrame(scaler.fit_transform(df_train), columns=df_train.columns)\n",
    "# dataframe chas column\n",
    "X_train_scaled['chas'] = X_train.chas.values\n",
    "X_train_scaled.head()"
   ]
  },
  {
   "cell_type": "code",
   "execution_count": 15,
   "id": "8c8eea25",
   "metadata": {},
   "outputs": [
    {
     "data": {
      "text/html": [
       "<div>\n",
       "<style scoped>\n",
       "    .dataframe tbody tr th:only-of-type {\n",
       "        vertical-align: middle;\n",
       "    }\n",
       "\n",
       "    .dataframe tbody tr th {\n",
       "        vertical-align: top;\n",
       "    }\n",
       "\n",
       "    .dataframe thead th {\n",
       "        text-align: right;\n",
       "    }\n",
       "</style>\n",
       "<table border=\"1\" class=\"dataframe\">\n",
       "  <thead>\n",
       "    <tr style=\"text-align: right;\">\n",
       "      <th></th>\n",
       "      <th>crim</th>\n",
       "      <th>zn</th>\n",
       "      <th>indus</th>\n",
       "      <th>nox</th>\n",
       "      <th>rm</th>\n",
       "      <th>age</th>\n",
       "      <th>dis</th>\n",
       "      <th>rad</th>\n",
       "      <th>tax</th>\n",
       "      <th>ptratio</th>\n",
       "      <th>b</th>\n",
       "      <th>lstat</th>\n",
       "      <th>chas</th>\n",
       "    </tr>\n",
       "  </thead>\n",
       "  <tbody>\n",
       "    <tr>\n",
       "      <th>0</th>\n",
       "      <td>0.000930</td>\n",
       "      <td>0.0</td>\n",
       "      <td>0.122593</td>\n",
       "      <td>0.257202</td>\n",
       "      <td>0.519219</td>\n",
       "      <td>0.836251</td>\n",
       "      <td>0.137921</td>\n",
       "      <td>0.173913</td>\n",
       "      <td>0.208015</td>\n",
       "      <td>0.425532</td>\n",
       "      <td>0.996470</td>\n",
       "      <td>0.201711</td>\n",
       "      <td>0</td>\n",
       "    </tr>\n",
       "    <tr>\n",
       "      <th>1</th>\n",
       "      <td>0.000533</td>\n",
       "      <td>0.4</td>\n",
       "      <td>0.210000</td>\n",
       "      <td>0.127572</td>\n",
       "      <td>0.588774</td>\n",
       "      <td>0.308960</td>\n",
       "      <td>0.268076</td>\n",
       "      <td>0.130435</td>\n",
       "      <td>0.127863</td>\n",
       "      <td>0.531915</td>\n",
       "      <td>1.000000</td>\n",
       "      <td>0.049669</td>\n",
       "      <td>1</td>\n",
       "    </tr>\n",
       "    <tr>\n",
       "      <th>2</th>\n",
       "      <td>0.001087</td>\n",
       "      <td>0.0</td>\n",
       "      <td>1.000000</td>\n",
       "      <td>0.460905</td>\n",
       "      <td>0.431157</td>\n",
       "      <td>0.987642</td>\n",
       "      <td>0.067155</td>\n",
       "      <td>0.130435</td>\n",
       "      <td>1.000000</td>\n",
       "      <td>0.797872</td>\n",
       "      <td>0.982879</td>\n",
       "      <td>0.450883</td>\n",
       "      <td>0</td>\n",
       "    </tr>\n",
       "    <tr>\n",
       "      <th>3</th>\n",
       "      <td>0.000928</td>\n",
       "      <td>0.0</td>\n",
       "      <td>0.372963</td>\n",
       "      <td>0.057613</td>\n",
       "      <td>0.447834</td>\n",
       "      <td>0.050463</td>\n",
       "      <td>0.378079</td>\n",
       "      <td>0.130435</td>\n",
       "      <td>0.225191</td>\n",
       "      <td>0.702128</td>\n",
       "      <td>0.984896</td>\n",
       "      <td>0.104581</td>\n",
       "      <td>0</td>\n",
       "    </tr>\n",
       "    <tr>\n",
       "      <th>4</th>\n",
       "      <td>0.057112</td>\n",
       "      <td>0.0</td>\n",
       "      <td>0.642963</td>\n",
       "      <td>0.674897</td>\n",
       "      <td>0.495017</td>\n",
       "      <td>0.915551</td>\n",
       "      <td>0.112632</td>\n",
       "      <td>1.000000</td>\n",
       "      <td>0.914122</td>\n",
       "      <td>0.808511</td>\n",
       "      <td>0.970220</td>\n",
       "      <td>0.428808</td>\n",
       "      <td>0</td>\n",
       "    </tr>\n",
       "  </tbody>\n",
       "</table>\n",
       "</div>"
      ],
      "text/plain": [
       "       crim   zn     indus       nox        rm       age       dis       rad  \\\n",
       "0  0.000930  0.0  0.122593  0.257202  0.519219  0.836251  0.137921  0.173913   \n",
       "1  0.000533  0.4  0.210000  0.127572  0.588774  0.308960  0.268076  0.130435   \n",
       "2  0.001087  0.0  1.000000  0.460905  0.431157  0.987642  0.067155  0.130435   \n",
       "3  0.000928  0.0  0.372963  0.057613  0.447834  0.050463  0.378079  0.130435   \n",
       "4  0.057112  0.0  0.642963  0.674897  0.495017  0.915551  0.112632  1.000000   \n",
       "\n",
       "        tax   ptratio         b     lstat  chas  \n",
       "0  0.208015  0.425532  0.996470  0.201711     0  \n",
       "1  0.127863  0.531915  1.000000  0.049669     1  \n",
       "2  1.000000  0.797872  0.982879  0.450883     0  \n",
       "3  0.225191  0.702128  0.984896  0.104581     0  \n",
       "4  0.914122  0.808511  0.970220  0.428808     0  "
      ]
     },
     "execution_count": 15,
     "metadata": {},
     "output_type": "execute_result"
    }
   ],
   "source": [
    "# dataframe train_scaled transform\n",
    "X_test_scaled = pd.DataFrame(scaler.transform(df_test), columns=df_test.columns)\n",
    "# dataframe chas column\n",
    "X_test_scaled['chas'] = X_test.chas.values\n",
    "X_test_scaled.head()"
   ]
  },
  {
   "cell_type": "markdown",
   "id": "3adf6c37",
   "metadata": {},
   "source": [
    "## 07| Training Data"
   ]
  },
  {
   "cell_type": "markdown",
   "id": "60cf945c",
   "metadata": {},
   "source": [
    "#### a| First methode just using Linear Regression"
   ]
  },
  {
   "cell_type": "code",
   "execution_count": 44,
   "id": "2813e51d",
   "metadata": {},
   "outputs": [],
   "source": [
    "from sklearn.linear_model import LinearRegression\n",
    "from sklearn.metrics import mean_absolute_error, mean_squared_error,explained_variance_score"
   ]
  },
  {
   "cell_type": "code",
   "execution_count": 41,
   "id": "48bd9146",
   "metadata": {},
   "outputs": [
    {
     "data": {
      "text/plain": [
       "LinearRegression()"
      ]
     },
     "execution_count": 41,
     "metadata": {},
     "output_type": "execute_result"
    }
   ],
   "source": [
    "# Modeling\n",
    "lr = LinearRegression()\n",
    "model = lr.fit(X_train_scaled, y_train)\n",
    "model"
   ]
  },
  {
   "cell_type": "code",
   "execution_count": 42,
   "id": "bb2b63ff",
   "metadata": {},
   "outputs": [
    {
     "data": {
      "text/plain": [
       "0.668759493535632"
      ]
     },
     "execution_count": 42,
     "metadata": {},
     "output_type": "execute_result"
    }
   ],
   "source": [
    "# Scoring\n",
    "model.score(X_test_scaled, y_test)"
   ]
  },
  {
   "cell_type": "markdown",
   "id": "a02f3f32",
   "metadata": {},
   "source": [
    "#### b| Second methode using Polynomial Regression"
   ]
  },
  {
   "cell_type": "code",
   "execution_count": 19,
   "id": "1f7280f4",
   "metadata": {},
   "outputs": [],
   "source": [
    "from sklearn.preprocessing import PolynomialFeatures"
   ]
  },
  {
   "cell_type": "markdown",
   "id": "cf8e41aa",
   "metadata": {},
   "source": [
    "##### Polynomial degree = 2"
   ]
  },
  {
   "cell_type": "code",
   "execution_count": 20,
   "id": "3405496a",
   "metadata": {},
   "outputs": [],
   "source": [
    "# Polynomial with degree = 2\n",
    "quadratic = PolynomialFeatures(degree=2)\n",
    "X_train_quadratic = quadratic.fit_transform(X_train_scaled)\n",
    "X_test_quadratic = quadratic.transform(X_test_scaled)"
   ]
  },
  {
   "cell_type": "code",
   "execution_count": 21,
   "id": "d2d5b274",
   "metadata": {},
   "outputs": [
    {
     "data": {
      "text/plain": [
       "0.7931406379228623"
      ]
     },
     "execution_count": 21,
     "metadata": {},
     "output_type": "execute_result"
    }
   ],
   "source": [
    "# modeling with degree = 2\n",
    "model = lr.fit(X_train_quadratic, y_train)\n",
    "# Scoring\n",
    "model.score(X_test_quadratic, y_test)"
   ]
  },
  {
   "cell_type": "markdown",
   "id": "91a28a1c",
   "metadata": {},
   "source": [
    "## 08| Exploratory Data Analysis (EDA)"
   ]
  },
  {
   "cell_type": "markdown",
   "id": "705ec753",
   "metadata": {},
   "source": [
    "Saya akan coba memakmsimalkan score sebelumnya dengan melakukan EDA. Penting diketahui, bahwa EDA tidak menjamin score dari model akan lebih baik."
   ]
  },
  {
   "cell_type": "code",
   "execution_count": 47,
   "id": "e5d9e429",
   "metadata": {
    "scrolled": true
   },
   "outputs": [
    {
     "data": {
      "text/html": [
       "<div>\n",
       "<style scoped>\n",
       "    .dataframe tbody tr th:only-of-type {\n",
       "        vertical-align: middle;\n",
       "    }\n",
       "\n",
       "    .dataframe tbody tr th {\n",
       "        vertical-align: top;\n",
       "    }\n",
       "\n",
       "    .dataframe thead th {\n",
       "        text-align: right;\n",
       "    }\n",
       "</style>\n",
       "<table border=\"1\" class=\"dataframe\">\n",
       "  <thead>\n",
       "    <tr style=\"text-align: right;\">\n",
       "      <th></th>\n",
       "      <th>crim</th>\n",
       "      <th>zn</th>\n",
       "      <th>indus</th>\n",
       "      <th>chas</th>\n",
       "      <th>nox</th>\n",
       "      <th>rm</th>\n",
       "      <th>age</th>\n",
       "      <th>dis</th>\n",
       "      <th>rad</th>\n",
       "      <th>tax</th>\n",
       "      <th>ptratio</th>\n",
       "      <th>b</th>\n",
       "      <th>lstat</th>\n",
       "      <th>medv</th>\n",
       "    </tr>\n",
       "  </thead>\n",
       "  <tbody>\n",
       "    <tr>\n",
       "      <th>0</th>\n",
       "      <td>0.00632</td>\n",
       "      <td>18.0</td>\n",
       "      <td>2.31</td>\n",
       "      <td>0</td>\n",
       "      <td>0.538</td>\n",
       "      <td>6.575</td>\n",
       "      <td>65.2</td>\n",
       "      <td>4.0900</td>\n",
       "      <td>1</td>\n",
       "      <td>296</td>\n",
       "      <td>15.3</td>\n",
       "      <td>396.90</td>\n",
       "      <td>4.98</td>\n",
       "      <td>24.0</td>\n",
       "    </tr>\n",
       "    <tr>\n",
       "      <th>1</th>\n",
       "      <td>0.02731</td>\n",
       "      <td>0.0</td>\n",
       "      <td>7.07</td>\n",
       "      <td>0</td>\n",
       "      <td>0.469</td>\n",
       "      <td>6.421</td>\n",
       "      <td>78.9</td>\n",
       "      <td>4.9671</td>\n",
       "      <td>2</td>\n",
       "      <td>242</td>\n",
       "      <td>17.8</td>\n",
       "      <td>396.90</td>\n",
       "      <td>9.14</td>\n",
       "      <td>21.6</td>\n",
       "    </tr>\n",
       "    <tr>\n",
       "      <th>2</th>\n",
       "      <td>0.02729</td>\n",
       "      <td>0.0</td>\n",
       "      <td>7.07</td>\n",
       "      <td>0</td>\n",
       "      <td>0.469</td>\n",
       "      <td>7.185</td>\n",
       "      <td>61.1</td>\n",
       "      <td>4.9671</td>\n",
       "      <td>2</td>\n",
       "      <td>242</td>\n",
       "      <td>17.8</td>\n",
       "      <td>392.83</td>\n",
       "      <td>4.03</td>\n",
       "      <td>34.7</td>\n",
       "    </tr>\n",
       "    <tr>\n",
       "      <th>3</th>\n",
       "      <td>0.03237</td>\n",
       "      <td>0.0</td>\n",
       "      <td>2.18</td>\n",
       "      <td>0</td>\n",
       "      <td>0.458</td>\n",
       "      <td>6.998</td>\n",
       "      <td>45.8</td>\n",
       "      <td>6.0622</td>\n",
       "      <td>3</td>\n",
       "      <td>222</td>\n",
       "      <td>18.7</td>\n",
       "      <td>394.63</td>\n",
       "      <td>2.94</td>\n",
       "      <td>33.4</td>\n",
       "    </tr>\n",
       "    <tr>\n",
       "      <th>4</th>\n",
       "      <td>0.06905</td>\n",
       "      <td>0.0</td>\n",
       "      <td>2.18</td>\n",
       "      <td>0</td>\n",
       "      <td>0.458</td>\n",
       "      <td>7.147</td>\n",
       "      <td>54.2</td>\n",
       "      <td>6.0622</td>\n",
       "      <td>3</td>\n",
       "      <td>222</td>\n",
       "      <td>18.7</td>\n",
       "      <td>396.90</td>\n",
       "      <td>5.33</td>\n",
       "      <td>36.2</td>\n",
       "    </tr>\n",
       "  </tbody>\n",
       "</table>\n",
       "</div>"
      ],
      "text/plain": [
       "      crim    zn  indus  chas    nox     rm   age     dis  rad  tax  ptratio  \\\n",
       "0  0.00632  18.0   2.31     0  0.538  6.575  65.2  4.0900    1  296     15.3   \n",
       "1  0.02731   0.0   7.07     0  0.469  6.421  78.9  4.9671    2  242     17.8   \n",
       "2  0.02729   0.0   7.07     0  0.469  7.185  61.1  4.9671    2  242     17.8   \n",
       "3  0.03237   0.0   2.18     0  0.458  6.998  45.8  6.0622    3  222     18.7   \n",
       "4  0.06905   0.0   2.18     0  0.458  7.147  54.2  6.0622    3  222     18.7   \n",
       "\n",
       "        b  lstat  medv  \n",
       "0  396.90   4.98  24.0  \n",
       "1  396.90   9.14  21.6  \n",
       "2  392.83   4.03  34.7  \n",
       "3  394.63   2.94  33.4  \n",
       "4  396.90   5.33  36.2  "
      ]
     },
     "execution_count": 47,
     "metadata": {},
     "output_type": "execute_result"
    }
   ],
   "source": [
    "df.head()"
   ]
  },
  {
   "cell_type": "code",
   "execution_count": 48,
   "id": "d8cb1c13",
   "metadata": {},
   "outputs": [
    {
     "data": {
      "image/png": "[encoded data removed]",
      "text/plain": [
       "<Figure size 720x720 with 14 Axes>"
      ]
     },
     "metadata": {},
     "output_type": "display_data"
    }
   ],
   "source": [
    "# Visualisasi dengan distplot untuk melihat distribusi data\n",
    "plt.figure(figsize=(10,10))\n",
    "for i in enumerate(df.describe().columns):\n",
    "  plt.subplot(6,3, i[0]+1)\n",
    "  sns.distplot(df[i[1]], color='deeppink', kde=True)\n",
    "plt.tight_layout()\n",
    "plt.show()"
   ]
  },
  {
   "cell_type": "markdown",
   "id": "f0ff1479",
   "metadata": {},
   "source": [
    "Data cenderung skew kekanan."
   ]
  },
  {
   "cell_type": "markdown",
   "id": "a185ffdb",
   "metadata": {},
   "source": [
    "### b| Multicolliniearity Analysis"
   ]
  },
  {
   "cell_type": "markdown",
   "id": "d2f1dcac",
   "metadata": {},
   "source": [
    "#### Show correlation of data"
   ]
  },
  {
   "cell_type": "code",
   "execution_count": 49,
   "id": "4c069d10",
   "metadata": {},
   "outputs": [
    {
     "data": {
      "text/plain": [
       "medv       1.000000\n",
       "rm         0.695360\n",
       "zn         0.360445\n",
       "b          0.333461\n",
       "dis        0.249929\n",
       "chas       0.175260\n",
       "age       -0.376955\n",
       "rad       -0.381626\n",
       "crim      -0.388305\n",
       "nox       -0.427321\n",
       "tax       -0.468536\n",
       "indus     -0.483725\n",
       "ptratio   -0.507787\n",
       "lstat     -0.737663\n",
       "Name: medv, dtype: float64"
      ]
     },
     "execution_count": 49,
     "metadata": {},
     "output_type": "execute_result"
    }
   ],
   "source": [
    "#Correlation to taget\n",
    "df.corr()['medv'].sort_values(ascending=False)"
   ]
  },
  {
   "cell_type": "code",
   "execution_count": 50,
   "id": "d0a2ae10",
   "metadata": {},
   "outputs": [
    {
     "data": {
      "text/plain": [
       "<AxesSubplot:>"
      ]
     },
     "execution_count": 50,
     "metadata": {},
     "output_type": "execute_result"
    },
    {
     "data": {
      "image/png": "[encoded data removed]",
      "text/plain": [
       "<Figure size 864x720 with 2 Axes>"
      ]
     },
     "metadata": {},
     "output_type": "display_data"
    }
   ],
   "source": [
    "# Show corrlation of feature (X)  \n",
    "plt.figure(figsize=(12,10))\n",
    "sns.heatmap(X.corr(), annot=True)"
   ]
  },
  {
   "cell_type": "markdown",
   "id": "a61b5167",
   "metadata": {},
   "source": [
    "Dari heatmap diatas, terdapat kolom2 yg memiliki korelasi 0.8 yg menunjukkan high multicollinearity yaitu ['tax', 'rad', 'indus', 'nox'].\n",
    "Cek lagi dengan score VIF"
   ]
  },
  {
   "cell_type": "markdown",
   "id": "d5a10bf9",
   "metadata": {},
   "source": [
    "##### Heatmap "
   ]
  },
  {
   "cell_type": "code",
   "execution_count": 51,
   "id": "09c37986",
   "metadata": {},
   "outputs": [
    {
     "data": {
      "text/plain": [
       "Index(['crim', 'zn', 'chas', 'rm', 'age', 'dis', 'ptratio', 'b', 'lstat'], dtype='object')"
      ]
     },
     "execution_count": 51,
     "metadata": {},
     "output_type": "execute_result"
    }
   ],
   "source": [
    "#Data dengan handling multicoloniearity dari heatmap.\n",
    "X_heatmap = X.drop(['indus','nox','tax','rad'], axis=1)\n",
    "X_heatmap.columns"
   ]
  },
  {
   "cell_type": "markdown",
   "id": "b6059ee5",
   "metadata": {},
   "source": [
    "##### VIF Score"
   ]
  },
  {
   "cell_type": "code",
   "execution_count": 52,
   "id": "52ef61ba",
   "metadata": {},
   "outputs": [],
   "source": [
    "from statsmodels.stats.outliers_influence import variance_inflation_factor"
   ]
  },
  {
   "cell_type": "code",
   "execution_count": 53,
   "id": "d75ce2bd",
   "metadata": {},
   "outputs": [],
   "source": [
    "# Show VIF score\n",
    "def calc_vif(X):\n",
    "    # Calculating VIF values\n",
    "    vif = pd.DataFrame()\n",
    "    vif[\"variables\"] = X.columns\n",
    "    vif[\"VIF\"] = [variance_inflation_factor(X.values, i) for i in range(X.shape[1])]\n",
    "    return(vif)"
   ]
  },
  {
   "cell_type": "code",
   "execution_count": 54,
   "id": "47d1f3b8",
   "metadata": {},
   "outputs": [
    {
     "data": {
      "text/html": [
       "<div>\n",
       "<style scoped>\n",
       "    .dataframe tbody tr th:only-of-type {\n",
       "        vertical-align: middle;\n",
       "    }\n",
       "\n",
       "    .dataframe tbody tr th {\n",
       "        vertical-align: top;\n",
       "    }\n",
       "\n",
       "    .dataframe thead th {\n",
       "        text-align: right;\n",
       "    }\n",
       "</style>\n",
       "<table border=\"1\" class=\"dataframe\">\n",
       "  <thead>\n",
       "    <tr style=\"text-align: right;\">\n",
       "      <th></th>\n",
       "      <th>variables</th>\n",
       "      <th>VIF</th>\n",
       "    </tr>\n",
       "  </thead>\n",
       "  <tbody>\n",
       "    <tr>\n",
       "      <th>0</th>\n",
       "      <td>crim</td>\n",
       "      <td>2.100373</td>\n",
       "    </tr>\n",
       "    <tr>\n",
       "      <th>1</th>\n",
       "      <td>zn</td>\n",
       "      <td>2.844013</td>\n",
       "    </tr>\n",
       "    <tr>\n",
       "      <th>2</th>\n",
       "      <td>indus</td>\n",
       "      <td>14.485758</td>\n",
       "    </tr>\n",
       "    <tr>\n",
       "      <th>3</th>\n",
       "      <td>chas</td>\n",
       "      <td>1.152952</td>\n",
       "    </tr>\n",
       "    <tr>\n",
       "      <th>4</th>\n",
       "      <td>nox</td>\n",
       "      <td>73.894947</td>\n",
       "    </tr>\n",
       "    <tr>\n",
       "      <th>5</th>\n",
       "      <td>rm</td>\n",
       "      <td>77.948283</td>\n",
       "    </tr>\n",
       "    <tr>\n",
       "      <th>6</th>\n",
       "      <td>age</td>\n",
       "      <td>21.386850</td>\n",
       "    </tr>\n",
       "    <tr>\n",
       "      <th>7</th>\n",
       "      <td>dis</td>\n",
       "      <td>14.699652</td>\n",
       "    </tr>\n",
       "    <tr>\n",
       "      <th>8</th>\n",
       "      <td>rad</td>\n",
       "      <td>15.167725</td>\n",
       "    </tr>\n",
       "    <tr>\n",
       "      <th>9</th>\n",
       "      <td>tax</td>\n",
       "      <td>61.227274</td>\n",
       "    </tr>\n",
       "    <tr>\n",
       "      <th>10</th>\n",
       "      <td>ptratio</td>\n",
       "      <td>85.029547</td>\n",
       "    </tr>\n",
       "    <tr>\n",
       "      <th>11</th>\n",
       "      <td>b</td>\n",
       "      <td>20.104943</td>\n",
       "    </tr>\n",
       "    <tr>\n",
       "      <th>12</th>\n",
       "      <td>lstat</td>\n",
       "      <td>11.102025</td>\n",
       "    </tr>\n",
       "  </tbody>\n",
       "</table>\n",
       "</div>"
      ],
      "text/plain": [
       "   variables        VIF\n",
       "0       crim   2.100373\n",
       "1         zn   2.844013\n",
       "2      indus  14.485758\n",
       "3       chas   1.152952\n",
       "4        nox  73.894947\n",
       "5         rm  77.948283\n",
       "6        age  21.386850\n",
       "7        dis  14.699652\n",
       "8        rad  15.167725\n",
       "9        tax  61.227274\n",
       "10   ptratio  85.029547\n",
       "11         b  20.104943\n",
       "12     lstat  11.102025"
      ]
     },
     "execution_count": 54,
     "metadata": {},
     "output_type": "execute_result"
    }
   ],
   "source": [
    "vif_score = calc_vif(X)\n",
    "vif_score"
   ]
  },
  {
   "cell_type": "markdown",
   "id": "cde69eb3",
   "metadata": {},
   "source": [
    "pilih yg paling terbesar nilai VIFnya."
   ]
  },
  {
   "cell_type": "code",
   "execution_count": 55,
   "id": "71286bd1",
   "metadata": {},
   "outputs": [
    {
     "data": {
      "text/plain": [
       "Index(['crim', 'zn', 'indus', 'chas', 'nox', 'age', 'dis', 'rad', 'tax', 'b',\n",
       "       'lstat'],\n",
       "      dtype='object')"
      ]
     },
     "execution_count": 55,
     "metadata": {},
     "output_type": "execute_result"
    }
   ],
   "source": [
    "#Data dengan handling multicolonearity dengan VIF score.\n",
    "X_vif = X.drop(['ptratio','rm'], axis=1)\n",
    "X_vif.columns"
   ]
  },
  {
   "cell_type": "markdown",
   "id": "35f6446c",
   "metadata": {},
   "source": [
    "## 09| Train and Test after handling multicollonierity"
   ]
  },
  {
   "cell_type": "markdown",
   "id": "d045141a",
   "metadata": {},
   "source": [
    "#### Heatmap"
   ]
  },
  {
   "cell_type": "code",
   "execution_count": 56,
   "id": "5f4cde26",
   "metadata": {},
   "outputs": [
    {
     "data": {
      "text/plain": [
       "0.8022765721278212"
      ]
     },
     "execution_count": 56,
     "metadata": {},
     "output_type": "execute_result"
    }
   ],
   "source": [
    "# Splitting\n",
    "X_train, X_test, y_train, y_test = train_test_split(X_heatmap, y, test_size=0.2, random_state=42)\n",
    "\n",
    "# scalling\n",
    "df_train = X_train.drop(columns='chas')\n",
    "df_test = X_test.drop(columns='chas')\n",
    "\n",
    "# dataframe fit_transform train_scaled \n",
    "X_train_scaled = pd.DataFrame(scaler.fit_transform(df_train), columns=df_train.columns)\n",
    "\n",
    "# dataframe chas column\n",
    "X_train_scaled['chas'] = X_train.chas.values\n",
    "\n",
    "# dataframe train_scaled transform\n",
    "X_test_scaled = pd.DataFrame(scaler.transform(df_test), columns=df_test.columns)\n",
    "\n",
    "# dataframe chas column\n",
    "X_test_scaled['chas'] = X_test.chas.values\n",
    "\n",
    "# Polynomial with degree = 2\n",
    "quadratic = PolynomialFeatures(degree=2)\n",
    "X_train_quadratic = quadratic.fit_transform(X_train_scaled)\n",
    "X_test_quadratic = quadratic.transform(X_test_scaled)\n",
    "\n",
    "# modeling with degree = 2\n",
    "model_hm = lr.fit(X_train_quadratic, y_train)\n",
    "\n",
    "# Scoring\n",
    "model_hm.score(X_test_quadratic, y_test)"
   ]
  },
  {
   "cell_type": "markdown",
   "id": "6e466d5f",
   "metadata": {},
   "source": [
    "#### VIF Score"
   ]
  },
  {
   "cell_type": "code",
   "execution_count": 57,
   "id": "05772276",
   "metadata": {},
   "outputs": [
    {
     "data": {
      "text/plain": [
       "0.7645454750244923"
      ]
     },
     "execution_count": 57,
     "metadata": {},
     "output_type": "execute_result"
    }
   ],
   "source": [
    "# Splitting\n",
    "X_train, X_test, y_train, y_test = train_test_split(X_vif, y, test_size=0.2, random_state=42)\n",
    "\n",
    "# scalling\n",
    "df_train = X_train.drop(columns='chas')\n",
    "df_test = X_test.drop(columns='chas')\n",
    "\n",
    "# dataframe fit_transform train_scaled \n",
    "X_train_scaled = pd.DataFrame(scaler.fit_transform(df_train), columns=df_train.columns)\n",
    "\n",
    "# dataframe chas column\n",
    "X_train_scaled['chas'] = X_train.chas.values\n",
    "\n",
    "# dataframe train_scaled transform\n",
    "X_test_scaled = pd.DataFrame(scaler.transform(df_test), columns=df_test.columns)\n",
    "\n",
    "# dataframe chas column\n",
    "X_test_scaled['chas'] = X_test.chas.values\n",
    "\n",
    "# Polynomial with degree = 2\n",
    "quadratic = PolynomialFeatures(degree=2)\n",
    "X_train_quadratic = quadratic.fit_transform(X_train_scaled)\n",
    "X_test_quadratic = quadratic.transform(X_test_scaled)\n",
    "\n",
    "# modeling with degree = 2\n",
    "model_vif = lr.fit(X_train_quadratic, y_train)\n",
    "\n",
    "# Scoring\n",
    "model_vif.score(X_test_quadratic, y_test)"
   ]
  },
  {
   "cell_type": "markdown",
   "id": "ffd25423",
   "metadata": {},
   "source": [
    "Kesimpulan dari keduanya adalah bahwa handling multicolliniearity menggunakan analisis heatmap menunjukkan skor yg lebih tinggi."
   ]
  },
  {
   "cell_type": "markdown",
   "id": "e01d2d4f",
   "metadata": {},
   "source": [
    "### c| Outlier Analysis"
   ]
  },
  {
   "cell_type": "code",
   "execution_count": 58,
   "id": "0c57ecff",
   "metadata": {},
   "outputs": [
    {
     "data": {
      "image/png": "[encoded data removed]",
      "text/plain": [
       "<Figure size 1080x1440 with 15 Axes>"
      ]
     },
     "metadata": {},
     "output_type": "display_data"
    }
   ],
   "source": [
    "# Melihat outlier\n",
    "fig, ax = plt.subplots(ncols=3, nrows=5, figsize=(15,20))\n",
    "index = 0\n",
    "ax = ax.flatten()\n",
    "\n",
    "for col, value in df.items():\n",
    "    sns.boxplot(x=col, data=df, color='lightseagreen', ax=ax[index])\n",
    "    index += 1\n",
    "plt.tight_layout(pad=0.5, w_pad=0.7, h_pad=5.0)"
   ]
  },
  {
   "cell_type": "markdown",
   "id": "1306b5bd",
   "metadata": {},
   "source": [
    "#### IQR Method"
   ]
  },
  {
   "cell_type": "code",
   "execution_count": 59,
   "id": "33ee0005",
   "metadata": {},
   "outputs": [
    {
     "name": "stdout",
     "output_type": "stream",
     "text": [
      "crim         3.595038\n",
      "zn          12.500000\n",
      "indus       12.910000\n",
      "chas         0.000000\n",
      "nox          0.175000\n",
      "rm           0.738000\n",
      "age         49.050000\n",
      "dis          3.088250\n",
      "rad         20.000000\n",
      "tax        387.000000\n",
      "ptratio      2.800000\n",
      "b           20.847500\n",
      "lstat       10.005000\n",
      "medv         7.975000\n",
      "dtype: float64\n"
     ]
    }
   ],
   "source": [
    "Q1 = df.quantile(0.25)\n",
    "Q3 = df.quantile(0.75)\n",
    "IQR = Q3-Q1\n",
    "print(IQR)"
   ]
  },
  {
   "cell_type": "code",
   "execution_count": 60,
   "id": "9249468a",
   "metadata": {},
   "outputs": [],
   "source": [
    "df_clear_iqr = df[~((df < (Q1-1.5*IQR)) | (df > (Q3+1.5*IQR))).any(axis=1)]"
   ]
  },
  {
   "cell_type": "code",
   "execution_count": 61,
   "id": "62dff570",
   "metadata": {},
   "outputs": [
    {
     "name": "stdout",
     "output_type": "stream",
     "text": [
      "(506, 14)\n",
      "(268, 14)\n"
     ]
    }
   ],
   "source": [
    "print(df.shape)\n",
    "print(df_clear_iqr.shape)"
   ]
  },
  {
   "cell_type": "markdown",
   "id": "556c5e20",
   "metadata": {},
   "source": [
    "#### Z-Score"
   ]
  },
  {
   "cell_type": "code",
   "execution_count": 62,
   "id": "582d8679",
   "metadata": {},
   "outputs": [],
   "source": [
    "def threshold(z,d):\n",
    "    for i in np.arange(3,5,0.2):\n",
    "        data=d.copy()\n",
    "        data=data[(z<i).all(axis=1)]\n",
    "        loss=(d.shape[0]-data.shape[0])/d.shape[0]*100\n",
    "        print('With threshold {} data loss is {}%'.format(np.round(i,1),np.round(loss,2))) "
   ]
  },
  {
   "cell_type": "code",
   "execution_count": 63,
   "id": "12229120",
   "metadata": {},
   "outputs": [
    {
     "name": "stdout",
     "output_type": "stream",
     "text": [
      "With threshold 3.0 data loss is 17.98%\n",
      "With threshold 3.2 data loss is 15.81%\n",
      "With threshold 3.4 data loss is 13.83%\n",
      "With threshold 3.6 data loss is 11.66%\n",
      "With threshold 3.8 data loss is 3.56%\n",
      "With threshold 4.0 data loss is 1.38%\n",
      "With threshold 4.2 data loss is 1.19%\n",
      "With threshold 4.4 data loss is 1.19%\n",
      "With threshold 4.6 data loss is 0.99%\n",
      "With threshold 4.8 data loss is 0.99%\n"
     ]
    }
   ],
   "source": [
    "from scipy.stats import zscore\n",
    "z=np.abs(zscore(df[df.columns]))\n",
    "threshold(z,df[df.columns])"
   ]
  },
  {
   "cell_type": "code",
   "execution_count": 64,
   "id": "fd86718e",
   "metadata": {},
   "outputs": [],
   "source": [
    "df_clear_z=df[(z<3.6).all(axis=1)]"
   ]
  },
  {
   "cell_type": "code",
   "execution_count": 65,
   "id": "8ce96e9d",
   "metadata": {},
   "outputs": [
    {
     "name": "stdout",
     "output_type": "stream",
     "text": [
      "(506, 14)\n",
      "(447, 14)\n"
     ]
    }
   ],
   "source": [
    "print(df.shape)\n",
    "print(df_clear_z.shape)"
   ]
  },
  {
   "cell_type": "markdown",
   "id": "847f420a",
   "metadata": {},
   "source": [
    "## 10| Train and Test after handling outlier"
   ]
  },
  {
   "cell_type": "markdown",
   "id": "2925b668",
   "metadata": {},
   "source": [
    "#### IQR Treatment"
   ]
  },
  {
   "cell_type": "code",
   "execution_count": 66,
   "id": "8e72e0a7",
   "metadata": {},
   "outputs": [
    {
     "data": {
      "text/plain": [
       "-3.8441893047112465"
      ]
     },
     "execution_count": 66,
     "metadata": {},
     "output_type": "execute_result"
    }
   ],
   "source": [
    "# Splitting\n",
    "X = df_clear_iqr.drop(columns='medv')\n",
    "y = df_clear_iqr.medv\n",
    "\n",
    "X_train, X_test, y_train, y_test = train_test_split(X, y, test_size=0.2, random_state=42)\n",
    "\n",
    "# scalling\n",
    "df_train = X_train.drop(columns='chas')\n",
    "df_test = X_test.drop(columns='chas')\n",
    "\n",
    "# dataframe fit_transform train_scaled \n",
    "X_train_scaled = pd.DataFrame(scaler.fit_transform(df_train), columns=df_train.columns)\n",
    "\n",
    "# dataframe chas column\n",
    "X_train_scaled['chas'] = X_train.chas.values\n",
    "\n",
    "# dataframe train_scaled transform\n",
    "X_test_scaled = pd.DataFrame(scaler.transform(df_test), columns=df_test.columns)\n",
    "\n",
    "# dataframe chas column\n",
    "X_test_scaled['chas'] = X_test.chas.values\n",
    "\n",
    "# Polynomial with degree = 2\n",
    "quadratic = PolynomialFeatures(degree=2)\n",
    "X_train_quadratic = quadratic.fit_transform(X_train_scaled)\n",
    "X_test_quadratic = quadratic.transform(X_test_scaled)\n",
    "\n",
    "# modeling with degree = 2\n",
    "model_vif = lr.fit(X_train_quadratic, y_train)\n",
    "\n",
    "# Scoring\n",
    "model_vif.score(X_test_quadratic, y_test)"
   ]
  },
  {
   "cell_type": "markdown",
   "id": "2e3a000a",
   "metadata": {},
   "source": [
    "#### Z-Score"
   ]
  },
  {
   "cell_type": "code",
   "execution_count": 67,
   "id": "8d80cbf9",
   "metadata": {},
   "outputs": [
    {
     "data": {
      "text/plain": [
       "0.802464852536811"
      ]
     },
     "execution_count": 67,
     "metadata": {},
     "output_type": "execute_result"
    }
   ],
   "source": [
    "# Splitting\n",
    "X = df_clear_z.drop(columns='medv')\n",
    "y = df_clear_z.medv\n",
    "\n",
    "X_train, X_test, y_train, y_test = train_test_split(X, y, test_size=0.2, random_state=42)\n",
    "\n",
    "# scalling\n",
    "df_train = X_train.drop(columns='chas')\n",
    "df_test = X_test.drop(columns='chas')\n",
    "\n",
    "# dataframe fit_transform train_scaled \n",
    "X_train_scaled = pd.DataFrame(scaler.fit_transform(df_train), columns=df_train.columns)\n",
    "\n",
    "# dataframe chas column\n",
    "X_train_scaled['chas'] = X_train.chas.values\n",
    "\n",
    "# dataframe train_scaled transform\n",
    "X_test_scaled = pd.DataFrame(scaler.transform(df_test), columns=df_test.columns)\n",
    "\n",
    "# dataframe chas column\n",
    "X_test_scaled['chas'] = X_test.chas.values\n",
    "\n",
    "# Polynomial with degree = 2\n",
    "quadratic = PolynomialFeatures(degree=2)\n",
    "X_train_quadratic = quadratic.fit_transform(X_train_scaled)\n",
    "X_test_quadratic = quadratic.transform(X_test_scaled)\n",
    "\n",
    "# modeling with degree = 2\n",
    "model_vif = lr.fit(X_train_quadratic, y_train)\n",
    "\n",
    "# Scoring\n",
    "model_vif.score(X_test_quadratic, y_test)"
   ]
  },
  {
   "cell_type": "markdown",
   "id": "62b4e7d6",
   "metadata": {},
   "source": [
    "Kesimpulan bahwa model dengan handling outlier menggunakan z-score lebih baik. "
   ]
  },
  {
   "cell_type": "markdown",
   "id": "05815cf8",
   "metadata": {},
   "source": [
    "#### Kesimpulan\n",
    "Karena score model antara handling multicolonierity (heatmap) sama dengan handling outlier menggunakan z-score, kita coba combine keduanya."
   ]
  },
  {
   "cell_type": "markdown",
   "id": "12145e49",
   "metadata": {},
   "source": [
    "## 11| Train and Test after handling outlier and multicoll."
   ]
  },
  {
   "cell_type": "code",
   "execution_count": 38,
   "id": "6cdb7da8",
   "metadata": {},
   "outputs": [
    {
     "data": {
      "text/plain": [
       "0.7551741251315356"
      ]
     },
     "execution_count": 38,
     "metadata": {},
     "output_type": "execute_result"
    }
   ],
   "source": [
    "# datset (heatmap vs z-sore)\n",
    "df_heatmap_z = df_clear_z.drop(['indus','nox','tax','rad'], axis=1)\n",
    "\n",
    "# Splitting\n",
    "X = df_heatmap_z.drop(columns='medv')\n",
    "y = df_heatmap_z.medv\n",
    "\n",
    "X_train, X_test, y_train, y_test = train_test_split(X, y, test_size=0.2, random_state=42)\n",
    "\n",
    "# scalling\n",
    "df_train = X_train.drop(columns='chas')\n",
    "df_test = X_test.drop(columns='chas')\n",
    "\n",
    "# dataframe fit_transform train_scaled \n",
    "X_train_scaled = pd.DataFrame(scaler.fit_transform(df_train), columns=df_train.columns)\n",
    "\n",
    "# dataframe chas column\n",
    "X_train_scaled['chas'] = X_train.chas.values\n",
    "\n",
    "# dataframe train_scaled transform\n",
    "X_test_scaled = pd.DataFrame(scaler.transform(df_test), columns=df_test.columns)\n",
    "\n",
    "# dataframe chas column\n",
    "X_test_scaled['chas'] = X_test.chas.values\n",
    "\n",
    "# Polynomial with degree = 2\n",
    "quadratic = PolynomialFeatures(degree=2)\n",
    "X_train_quadratic = quadratic.fit_transform(X_train_scaled)\n",
    "X_test_quadratic = quadratic.transform(X_test_scaled)\n",
    "\n",
    "# modeling with degree = 2\n",
    "model_vif = lr.fit(X_train_quadratic, y_train)\n",
    "\n",
    "# Scoring\n",
    "model_vif.score(X_test_quadratic, y_test)"
   ]
  },
  {
   "cell_type": "markdown",
   "id": "e4a31d7f",
   "metadata": {},
   "source": [
    "Dari kombinasi keduanya, ternyata score tidak lebih baik. Jadi kita bisa menggunakan salah satunya antara keduanya. Namun, disini saya akan coba membuat benchmark dengan model lain yaitu XGBoost."
   ]
  },
  {
   "cell_type": "markdown",
   "id": "eb9a607c",
   "metadata": {},
   "source": [
    "## 12| Benchmark"
   ]
  },
  {
   "cell_type": "markdown",
   "id": "99463fc8",
   "metadata": {},
   "source": [
    "#### a| XGBoost"
   ]
  },
  {
   "cell_type": "code",
   "execution_count": 23,
   "id": "73b87a3f",
   "metadata": {},
   "outputs": [],
   "source": [
    "# sklearn\n",
    "from sklearn.compose import ColumnTransformer\n",
    "from sklearn.pipeline import Pipeline\n",
    "from sklearn.model_selection import RandomizedSearchCV\n",
    "# jcopml\n",
    "from jcopml.plot import plot_missing_value, plot_residual\n",
    "from jcopml.pipeline import num_pipe, cat_pipe\n",
    "from jcopml.utils import load_model, save_model\n",
    "from jcopml.feature_importance import mean_score_decrease\n",
    "from jcopml.tuning import random_search_params as rsp\n",
    "# xgboost\n",
    "from xgboost import XGBRegressor"
   ]
  },
  {
   "cell_type": "code",
   "execution_count": 24,
   "id": "5ff5b97f",
   "metadata": {},
   "outputs": [
    {
     "data": {
      "text/plain": [
       "((404, 13), (102, 13), (404,), (102,))"
      ]
     },
     "execution_count": 24,
     "metadata": {},
     "output_type": "execute_result"
    }
   ],
   "source": [
    "X = df.drop(columns='medv')\n",
    "y = df.medv\n",
    "\n",
    "X_train, X_test, y_train, y_test = train_test_split(X, y, test_size=0.2, random_state=42)\n",
    "X_train.shape, X_test.shape, y_train.shape, y_test.shape"
   ]
  },
  {
   "cell_type": "code",
   "execution_count": 25,
   "id": "7a868ade",
   "metadata": {},
   "outputs": [
    {
     "data": {
      "text/plain": [
       "Index(['crim', 'zn', 'indus', 'chas', 'nox', 'rm', 'age', 'dis', 'rad', 'tax',\n",
       "       'ptratio', 'b', 'lstat'],\n",
       "      dtype='object')"
      ]
     },
     "execution_count": 25,
     "metadata": {},
     "output_type": "execute_result"
    }
   ],
   "source": [
    "X_train.columns"
   ]
  },
  {
   "cell_type": "code",
   "execution_count": 26,
   "id": "87c35346",
   "metadata": {},
   "outputs": [
    {
     "name": "stdout",
     "output_type": "stream",
     "text": [
      "Fitting 3 folds for each of 50 candidates, totalling 150 fits\n",
      "{'algo__colsample_bytree': 0.4370861069626263, 'algo__gamma': 8, 'algo__learning_rate': 0.1575132049977973, 'algo__max_depth': 7, 'algo__n_estimators': 182, 'algo__reg_alpha': 0.0025113061677390002, 'algo__reg_lambda': 0.06870614282613305, 'algo__subsample': 0.4668543055695109}\n",
      "0.9922017478845107 0.8423409315455693 0.8514007662562586\n"
     ]
    }
   ],
   "source": [
    "preprocessor = ColumnTransformer([\n",
    "    ('numeric', num_pipe(poly=2),['crim','zn','indus','nox','rm','age','dis','rad','tax','ptratio','b','lstat']),\n",
    "    ('categoric', cat_pipe(),['chas']),\n",
    "])\n",
    "\n",
    "pipeline = Pipeline([\n",
    "    ('prep', preprocessor),\n",
    "    ('algo', XGBRegressor(n_jobs=-1, random_state=42))\n",
    "])\n",
    "\n",
    "xgb_model = RandomizedSearchCV(pipeline, rsp.xgb_params, cv=3, n_iter=50, n_jobs=-1, verbose=1, random_state=42)\n",
    "xgb_model.fit(X_train, y_train)\n",
    "\n",
    "print(xgb_model.best_params_)\n",
    "print(xgb_model.score(X_train, y_train), xgb_model.best_score_, xgb_model.score(X_test, y_test))"
   ]
  },
  {
   "cell_type": "code",
   "execution_count": 27,
   "id": "cd771411",
   "metadata": {
    "scrolled": true
   },
   "outputs": [
    {
     "data": {
      "image/png": "[encoded data removed]",
      "text/plain": [
       "<Figure size 1080x360 with 1 Axes>"
      ]
     },
     "metadata": {},
     "output_type": "display_data"
    }
   ],
   "source": [
    "#Feautre Engineering\n",
    "df_imp = mean_score_decrease(X_train, y_train, xgb_model, plot=True, topk=10)"
   ]
  },
  {
   "cell_type": "code",
   "execution_count": 31,
   "id": "614ccfec",
   "metadata": {},
   "outputs": [
    {
     "data": {
      "text/plain": [
       "['lstat', 'rm', 'dis', 'nox', 'crim', 'tax', 'ptratio', 'age', 'indus', 'b']"
      ]
     },
     "execution_count": 31,
     "metadata": {},
     "output_type": "execute_result"
    }
   ],
   "source": [
    "df_imp.feature.to_list()"
   ]
  },
  {
   "cell_type": "markdown",
   "id": "1e492019",
   "metadata": {},
   "source": [
    "Akan saya gunakan beberapa kolom yaitu ['lstat', 'rm', 'dis', 'nox']."
   ]
  },
  {
   "cell_type": "code",
   "execution_count": 37,
   "id": "f6edf025",
   "metadata": {},
   "outputs": [
    {
     "name": "stdout",
     "output_type": "stream",
     "text": [
      "Fitting 3 folds for each of 50 candidates, totalling 150 fits\n",
      "{'algo__colsample_bytree': 0.14651354905174693, 'algo__gamma': 4, 'algo__learning_rate': 0.06648257162269167, 'algo__max_depth': 3, 'algo__n_estimators': 154, 'algo__reg_alpha': 0.003576122356264065, 'algo__reg_lambda': 0.0033961095337366647, 'algo__subsample': 0.7847684335570796}\n",
      "0.9566138369125696 0.7999254066977803 0.8460183378814441\n"
     ]
    }
   ],
   "source": [
    "preprocessor = ColumnTransformer([\n",
    "    ('numeric', num_pipe(poly=2),['lstat', 'rm', 'dis', 'nox']),\n",
    "    ('categoric', cat_pipe(),['chas']),\n",
    "])\n",
    "\n",
    "pipeline = Pipeline([\n",
    "    ('prep', preprocessor),\n",
    "    ('algo', XGBRegressor(n_jobs=-1, random_state=42))\n",
    "])\n",
    "\n",
    "xgb_model2 = RandomizedSearchCV(pipeline, rsp.xgb_params, cv=3, n_iter=50, n_jobs=-1, verbose=1, random_state=42)\n",
    "xgb_model2.fit(X_train, y_train)\n",
    "\n",
    "print(xgb_model2.best_params_)\n",
    "print(xgb_model2.score(X_train, y_train), xgb_model2.best_score_, xgb_model2.score(X_test, y_test))"
   ]
  },
  {
   "cell_type": "markdown",
   "id": "e15df05c",
   "metadata": {},
   "source": [
    "Model menunjukkan score yang sama. sehingga model setelah feature engineering kita pilih karena lebih ringan dari segi komputasi. Kemudian saya akan mencoba melihat plot residual."
   ]
  },
  {
   "cell_type": "code",
   "execution_count": 38,
   "id": "0192e6ee",
   "metadata": {},
   "outputs": [
    {
     "data": {
      "image/png": "[encoded data removed]",
      "text/plain": [
       "<Figure size 1080x360 with 2 Axes>"
      ]
     },
     "metadata": {},
     "output_type": "display_data"
    }
   ],
   "source": [
    "#Plot residual\n",
    "plot_residual(X_train, y_train, X_test, y_test, xgb_model2, lowess=False)"
   ]
  },
  {
   "cell_type": "markdown",
   "id": "7f76f3bb",
   "metadata": {},
   "source": [
    "Dari plot ini dapat diambil kesimpulan bahwa data sudah simetri. artinya tidak perlu melakukan treatment lagi."
   ]
  },
  {
   "cell_type": "code",
   "execution_count": 45,
   "id": "20151432",
   "metadata": {},
   "outputs": [
    {
     "name": "stdout",
     "output_type": "stream",
     "text": [
      "MAE:  2.260017093022664\n",
      "MSE:  11.29205782046829\n",
      "RMSE:  3.3603657271892726\n",
      "Variance Regression Score:  0.8460195715471731\n"
     ]
    }
   ],
   "source": [
    "# predictions on the test set\n",
    "predictions = xgb_model2.predict(X_test)\n",
    "\n",
    "print('MAE: ',mean_absolute_error(y_test,predictions))\n",
    "print('MSE: ',mean_squared_error(y_test,predictions))\n",
    "print('RMSE: ',np.sqrt(mean_squared_error(y_test,predictions)))\n",
    "print('Variance Regression Score: ',explained_variance_score(y_test,predictions))"
   ]
  },
  {
   "cell_type": "markdown",
   "id": "43688d34",
   "metadata": {},
   "source": [
    "## 13| Kesimpulan"
   ]
  },
  {
   "cell_type": "markdown",
   "id": "33069782",
   "metadata": {},
   "source": [
    "Dari beberapa step diatas, dapat diambil kesimpulan sebagai berikut:\n",
    "\n",
    "__1) Linear Regression__\n",
    "\n",
    "Hasil dari model ini memiliki score tertinggi 80% dengan treatment multicolonearity atau handling outlier dengan z_score.\n",
    "\n",
    "__2) XGBoost__\n",
    "\n",
    "Hasil tertinggi 85%.\n",
    "\n",
    "Dari kedua model, perbedaan score tidak jauh beda. Kemungkinan scorenya memang pada range ini."
   ]
  },
  {
   "cell_type": "markdown",
   "id": "a9f90045",
   "metadata": {},
   "source": [
    "By muhamadsahri08@gmail.com"
   ]
  }
 ],
 "metadata": {
  "kernelspec": {
   "display_name": "Python 3 (ipykernel)",
   "language": "python",
   "name": "python3"
  },
  "language_info": {
   "codemirror_mode": {
    "name": "ipython",
    "version": 3
   },
   "file_extension": ".py",
   "mimetype": "text/x-python",
   "name": "python",
   "nbconvert_exporter": "python",
   "pygments_lexer": "ipython3",
   "version": "3.9.6"
  }
 },
 "nbformat": 4,
 "nbformat_minor": 5
}
